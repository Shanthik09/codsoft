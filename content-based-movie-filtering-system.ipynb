{
 "cells": [
  {
   "cell_type": "code",
   "execution_count": 1,
   "id": "73cd83a9",
   "metadata": {
    "_cell_guid": "b1076dfc-b9ad-4769-8c92-a6c4dae69d19",
    "_uuid": "8f2839f25d086af736a60e9eeb907d3b93b6e0e5",
    "execution": {
     "iopub.execute_input": "2024-05-22T17:43:20.218330Z",
     "iopub.status.busy": "2024-05-22T17:43:20.217659Z",
     "iopub.status.idle": "2024-05-22T17:43:20.240182Z",
     "shell.execute_reply": "2024-05-22T17:43:20.238897Z"
    },
    "papermill": {
     "duration": 0.042075,
     "end_time": "2024-05-22T17:43:20.243565",
     "exception": false,
     "start_time": "2024-05-22T17:43:20.201490",
     "status": "completed"
    },
    "tags": []
   },
   "outputs": [],
   "source": [
    "# This Python 3 environment comes with many helpful analytics libraries installed\n",
    "# It is defined by the kaggle/python Docker image: https://github.com/kaggle/docker-python\n",
    "# For example, here's several helpful packages to load\n",
    "\n",
    "import numpy as np # linear algebra\n",
    "import pandas as pd # data processing, CSV file I/O (e.g. pd.read_csv)\n",
    "\n",
    "# Input data files are available in the read-only \"../input/\" directory\n",
    "# For example, running this (by clicking run or pressing Shift+Enter) will list all files under the input directory\n",
    "\n",
    "import os\n",
    "for dirname, _, filenames in os.walk('/kaggle/input'):\n",
    "    for filename in filenames:\n",
    "        print(os.path.join(dirname, filename))\n",
    "\n",
    "# You can write up to 20GB to the current directory (/kaggle/working/) that gets preserved as output when you create a version using \"Save & Run All\" \n",
    "# You can also write temporary files to /kaggle/temp/, but they won't be saved outside of the current session"
   ]
  },
  {
   "cell_type": "markdown",
   "id": "e2ab7a99",
   "metadata": {
    "papermill": {
     "duration": 0.012378,
     "end_time": "2024-05-22T17:43:20.269081",
     "exception": false,
     "start_time": "2024-05-22T17:43:20.256703",
     "status": "completed"
    },
    "tags": []
   },
   "source": [
    "\n",
    "\n",
    "****Recommendation Systems**\n",
    "\n",
    "Recommendation systems are the systems that are used to gain more user attraction by understanding the user’s taste. These systems have now become popular because of their ability to provide personalized content to users that are of the user’s interest. These days millions of products are listed on e-commerce websites that make it impossible to find out a product of our desired choice. This is where these systems help us by quickly recommending us with the desired products. Also, Netflix suggests the same genre movies to us by understanding our interest/ choice of movies we like similarly Youtube recommends videos to us. There are many different recommendation engines that work backends to make it possible.\n",
    "\n",
    "****Content-Based Filtering:- ****\n",
    "\n",
    "In this system user’s interest and profile features are taken into considerations. They make \n",
    "an assumption that if a one has interests in an item, then one will once again be interested in \n",
    "it in the future. Items sharing something in common are usually grouped together based on \n",
    "their features. User profiles are constructed using past interactions or by indirectly asking \n",
    "users about their interests. Other systems, which are not content-based, utilize user personal \n",
    "and social data. \n",
    "\n",
    "They suggest similar items based on a particular item. This system uses item metadata, such as genre, director, description, actors, etc. for movies, to make these recommendations. The general idea behind these recommender systems is that if a person liked a particular item, he or she will also like an item that is similar to it."
   ]
  },
  {
   "cell_type": "markdown",
   "id": "c1ba326f",
   "metadata": {
    "papermill": {
     "duration": 0.013194,
     "end_time": "2024-05-22T17:43:20.295010",
     "exception": false,
     "start_time": "2024-05-22T17:43:20.281816",
     "status": "completed"
    },
    "tags": []
   },
   "source": [
    "# Import required files and Libraries"
   ]
  },
  {
   "cell_type": "code",
   "execution_count": 8,
   "id": "5480506c",
   "metadata": {
    "execution": {
     "iopub.execute_input": "2024-05-22T17:43:20.322819Z",
     "iopub.status.busy": "2024-05-22T17:43:20.322340Z",
     "iopub.status.idle": "2024-05-22T17:43:20.378241Z",
     "shell.execute_reply": "2024-05-22T17:43:20.377083Z"
    },
    "papermill": {
     "duration": 0.072757,
     "end_time": "2024-05-22T17:43:20.380988",
     "exception": false,
     "start_time": "2024-05-22T17:43:20.308231",
     "status": "completed"
    },
    "tags": []
   },
   "outputs": [
    {
     "ename": "SyntaxError",
     "evalue": "(unicode error) 'unicodeescape' codec can't decode bytes in position 2-3: truncated \\UXXXXXXXX escape (4037866171.py, line 4)",
     "output_type": "error",
     "traceback": [
      "\u001b[1;36m  Cell \u001b[1;32mIn[8], line 4\u001b[1;36m\u001b[0m\n\u001b[1;33m    movie = pd.read_csv(\"C:\\Users\\Shanthi Kunapareddy\\Downloads\\archive.zip\")\u001b[0m\n\u001b[1;37m                                                                            ^\u001b[0m\n\u001b[1;31mSyntaxError\u001b[0m\u001b[1;31m:\u001b[0m (unicode error) 'unicodeescape' codec can't decode bytes in position 2-3: truncated \\UXXXXXXXX escape\n"
     ]
    }
   ],
   "source": [
    "import pandas as pd\n",
    "import numpy as np \n",
    "# import file\n",
    "movie = pd.read_csv(\"C:\\Users\\Shanthi Kunapareddy\\Downloads\\archive.zip\")\n",
    "movie"
   ]
  },
  {
   "cell_type": "markdown",
   "id": "1f516b7f",
   "metadata": {
    "papermill": {
     "duration": 0.012849,
     "end_time": "2024-05-22T17:43:20.406946",
     "exception": false,
     "start_time": "2024-05-22T17:43:20.394097",
     "status": "completed"
    },
    "tags": []
   },
   "source": [
    "# Data Prepration and cleaning"
   ]
  },
  {
   "cell_type": "code",
   "execution_count": null,
   "id": "ee39c664",
   "metadata": {
    "execution": {
     "iopub.execute_input": "2024-05-22T17:43:20.435197Z",
     "iopub.status.busy": "2024-05-22T17:43:20.434756Z",
     "iopub.status.idle": "2024-05-22T17:43:20.449975Z",
     "shell.execute_reply": "2024-05-22T17:43:20.448815Z"
    },
    "papermill": {
     "duration": 0.032176,
     "end_time": "2024-05-22T17:43:20.452607",
     "exception": false,
     "start_time": "2024-05-22T17:43:20.420431",
     "status": "completed"
    },
    "tags": []
   },
   "outputs": [],
   "source": [
    "# Check unique movie title\n",
    "movie[\"title\"].unique()"
   ]
  },
  {
   "cell_type": "code",
   "execution_count": null,
   "id": "032cf4f0",
   "metadata": {
    "execution": {
     "iopub.execute_input": "2024-05-22T17:43:20.481617Z",
     "iopub.status.busy": "2024-05-22T17:43:20.480548Z",
     "iopub.status.idle": "2024-05-22T17:43:20.507086Z",
     "shell.execute_reply": "2024-05-22T17:43:20.505813Z"
    },
    "papermill": {
     "duration": 0.043634,
     "end_time": "2024-05-22T17:43:20.509692",
     "exception": false,
     "start_time": "2024-05-22T17:43:20.466058",
     "status": "completed"
    },
    "tags": []
   },
   "outputs": [],
   "source": [
    "# Extract the year from the title column and create a new \"year\" column\n",
    "movie['Year'] = movie['title'].str.extract(r'\\((\\d{4})\\)', expand=False)\n",
    "movie[\"Year\"]"
   ]
  },
  {
   "cell_type": "code",
   "execution_count": 3,
   "id": "dfea6a8f",
   "metadata": {
    "execution": {
     "iopub.execute_input": "2024-05-22T17:43:20.538435Z",
     "iopub.status.busy": "2024-05-22T17:43:20.537634Z",
     "iopub.status.idle": "2024-05-22T17:43:20.569921Z",
     "shell.execute_reply": "2024-05-22T17:43:20.568709Z"
    },
    "papermill": {
     "duration": 0.049667,
     "end_time": "2024-05-22T17:43:20.572762",
     "exception": false,
     "start_time": "2024-05-22T17:43:20.523095",
     "status": "completed"
    },
    "tags": []
   },
   "outputs": [
    {
     "ename": "NameError",
     "evalue": "name 'movie' is not defined",
     "output_type": "error",
     "traceback": [
      "\u001b[1;31m---------------------------------------------------------------------------\u001b[0m",
      "\u001b[1;31mNameError\u001b[0m                                 Traceback (most recent call last)",
      "Cell \u001b[1;32mIn[3], line 2\u001b[0m\n\u001b[0;32m      1\u001b[0m \u001b[38;5;66;03m# Replace the year in the title column with a whitespace\u001b[39;00m\n\u001b[1;32m----> 2\u001b[0m movie[\u001b[38;5;124m\"\u001b[39m\u001b[38;5;124mtitle\u001b[39m\u001b[38;5;124m\"\u001b[39m]\u001b[38;5;241m=\u001b[39m movie\u001b[38;5;241m.\u001b[39mtitle\u001b[38;5;241m.\u001b[39mstr\u001b[38;5;241m.\u001b[39mreplace(\u001b[38;5;124m\"\u001b[39m\u001b[38;5;124m(\u001b[39m\u001b[38;5;124m\\\u001b[39m\u001b[38;5;124m(\u001b[39m\u001b[38;5;124m\\\u001b[39m\u001b[38;5;124md\u001b[39m\u001b[38;5;124m\\\u001b[39m\u001b[38;5;124md\u001b[39m\u001b[38;5;124m\\\u001b[39m\u001b[38;5;124md\u001b[39m\u001b[38;5;124m\\\u001b[39m\u001b[38;5;124md\u001b[39m\u001b[38;5;124m\\\u001b[39m\u001b[38;5;124m))\u001b[39m\u001b[38;5;124m\"\u001b[39m,\u001b[38;5;124m\"\u001b[39m\u001b[38;5;124m\"\u001b[39m,regex\u001b[38;5;241m=\u001b[39m\u001b[38;5;28;01mTrue\u001b[39;00m)\n\u001b[0;32m      3\u001b[0m movie\n",
      "\u001b[1;31mNameError\u001b[0m: name 'movie' is not defined"
     ]
    }
   ],
   "source": [
    "# Replace the year in the title column with a whitespace\n",
    "movie[\"title\"]= movie.title.str.replace(\"(\\(\\d\\d\\d\\d\\))\",\"\",regex=True)\n",
    "movie"
   ]
  },
  {
   "cell_type": "code",
   "execution_count": 4,
   "id": "a21256bf",
   "metadata": {
    "execution": {
     "iopub.execute_input": "2024-05-22T17:43:20.602076Z",
     "iopub.status.busy": "2024-05-22T17:43:20.601648Z",
     "iopub.status.idle": "2024-05-22T17:43:20.625268Z",
     "shell.execute_reply": "2024-05-22T17:43:20.624054Z"
    },
    "papermill": {
     "duration": 0.041314,
     "end_time": "2024-05-22T17:43:20.627948",
     "exception": false,
     "start_time": "2024-05-22T17:43:20.586634",
     "status": "completed"
    },
    "tags": []
   },
   "outputs": [
    {
     "ename": "NameError",
     "evalue": "name 'movie' is not defined",
     "output_type": "error",
     "traceback": [
      "\u001b[1;31m---------------------------------------------------------------------------\u001b[0m",
      "\u001b[1;31mNameError\u001b[0m                                 Traceback (most recent call last)",
      "Cell \u001b[1;32mIn[4], line 3\u001b[0m\n\u001b[0;32m      1\u001b[0m \u001b[38;5;66;03m# Removing extra spaces from begining and ending\u001b[39;00m\n\u001b[0;32m      2\u001b[0m \u001b[38;5;66;03m# apply strip() to the 'title' column to remove extra spaces\u001b[39;00m\n\u001b[1;32m----> 3\u001b[0m movie[\u001b[38;5;124m'\u001b[39m\u001b[38;5;124mtitle\u001b[39m\u001b[38;5;124m'\u001b[39m] \u001b[38;5;241m=\u001b[39m movie[\u001b[38;5;124m'\u001b[39m\u001b[38;5;124mtitle\u001b[39m\u001b[38;5;124m'\u001b[39m]\u001b[38;5;241m.\u001b[39mstr\u001b[38;5;241m.\u001b[39mstrip()\n\u001b[0;32m      4\u001b[0m movie\u001b[38;5;241m.\u001b[39mhead(\u001b[38;5;241m3\u001b[39m)\n",
      "\u001b[1;31mNameError\u001b[0m: name 'movie' is not defined"
     ]
    }
   ],
   "source": [
    "# Removing extra spaces from begining and ending\n",
    "# apply strip() to the 'title' column to remove extra spaces\n",
    "movie['title'] = movie['title'].str.strip()\n",
    "movie.head(3)"
   ]
  },
  {
   "cell_type": "code",
   "execution_count": 5,
   "id": "2e7e6933",
   "metadata": {
    "execution": {
     "iopub.execute_input": "2024-05-22T17:43:20.658093Z",
     "iopub.status.busy": "2024-05-22T17:43:20.657660Z",
     "iopub.status.idle": "2024-05-22T17:43:20.680980Z",
     "shell.execute_reply": "2024-05-22T17:43:20.679780Z"
    },
    "papermill": {
     "duration": 0.041521,
     "end_time": "2024-05-22T17:43:20.683514",
     "exception": false,
     "start_time": "2024-05-22T17:43:20.641993",
     "status": "completed"
    },
    "tags": []
   },
   "outputs": [
    {
     "ename": "NameError",
     "evalue": "name 'movie' is not defined",
     "output_type": "error",
     "traceback": [
      "\u001b[1;31m---------------------------------------------------------------------------\u001b[0m",
      "\u001b[1;31mNameError\u001b[0m                                 Traceback (most recent call last)",
      "Cell \u001b[1;32mIn[5], line 2\u001b[0m\n\u001b[0;32m      1\u001b[0m \u001b[38;5;66;03m# apply lower to the genres\u001b[39;00m\n\u001b[1;32m----> 2\u001b[0m movie[\u001b[38;5;124m\"\u001b[39m\u001b[38;5;124mgenres\u001b[39m\u001b[38;5;124m\"\u001b[39m] \u001b[38;5;241m=\u001b[39m movie[\u001b[38;5;124m\"\u001b[39m\u001b[38;5;124mgenres\u001b[39m\u001b[38;5;124m\"\u001b[39m]\u001b[38;5;241m.\u001b[39mapply(\u001b[38;5;28;01mlambda\u001b[39;00m x:x\u001b[38;5;241m.\u001b[39mlower())\n\u001b[0;32m      3\u001b[0m movie\n",
      "\u001b[1;31mNameError\u001b[0m: name 'movie' is not defined"
     ]
    }
   ],
   "source": [
    "# apply lower to the genres\n",
    "movie[\"genres\"] = movie[\"genres\"].apply(lambda x:x.lower())\n",
    "movie"
   ]
  },
  {
   "cell_type": "code",
   "execution_count": 6,
   "id": "1f0be72e",
   "metadata": {
    "execution": {
     "iopub.execute_input": "2024-05-22T17:43:20.714040Z",
     "iopub.status.busy": "2024-05-22T17:43:20.713542Z",
     "iopub.status.idle": "2024-05-22T17:43:20.736604Z",
     "shell.execute_reply": "2024-05-22T17:43:20.735382Z"
    },
    "papermill": {
     "duration": 0.041341,
     "end_time": "2024-05-22T17:43:20.739275",
     "exception": false,
     "start_time": "2024-05-22T17:43:20.697934",
     "status": "completed"
    },
    "tags": []
   },
   "outputs": [
    {
     "ename": "FileNotFoundError",
     "evalue": "[Errno 2] No such file or directory: '/kaggle/input/movie-lens-small-latest-dataset/tags.csv'",
     "output_type": "error",
     "traceback": [
      "\u001b[1;31m---------------------------------------------------------------------------\u001b[0m",
      "\u001b[1;31mFileNotFoundError\u001b[0m                         Traceback (most recent call last)",
      "Cell \u001b[1;32mIn[6], line 2\u001b[0m\n\u001b[0;32m      1\u001b[0m \u001b[38;5;66;03m# import tags file\u001b[39;00m\n\u001b[1;32m----> 2\u001b[0m tag \u001b[38;5;241m=\u001b[39m pd\u001b[38;5;241m.\u001b[39mread_csv(\u001b[38;5;124m\"\u001b[39m\u001b[38;5;124m/kaggle/input/movie-lens-small-latest-dataset/tags.csv\u001b[39m\u001b[38;5;124m\"\u001b[39m)\n\u001b[0;32m      3\u001b[0m tag\u001b[38;5;241m.\u001b[39mhead(\u001b[38;5;241m3\u001b[39m)\n",
      "File \u001b[1;32mC:\\ProgramData\\anaconda3\\Lib\\site-packages\\pandas\\util\\_decorators.py:211\u001b[0m, in \u001b[0;36mdeprecate_kwarg.<locals>._deprecate_kwarg.<locals>.wrapper\u001b[1;34m(*args, **kwargs)\u001b[0m\n\u001b[0;32m    209\u001b[0m     \u001b[38;5;28;01melse\u001b[39;00m:\n\u001b[0;32m    210\u001b[0m         kwargs[new_arg_name] \u001b[38;5;241m=\u001b[39m new_arg_value\n\u001b[1;32m--> 211\u001b[0m \u001b[38;5;28;01mreturn\u001b[39;00m func(\u001b[38;5;241m*\u001b[39margs, \u001b[38;5;241m*\u001b[39m\u001b[38;5;241m*\u001b[39mkwargs)\n",
      "File \u001b[1;32mC:\\ProgramData\\anaconda3\\Lib\\site-packages\\pandas\\util\\_decorators.py:331\u001b[0m, in \u001b[0;36mdeprecate_nonkeyword_arguments.<locals>.decorate.<locals>.wrapper\u001b[1;34m(*args, **kwargs)\u001b[0m\n\u001b[0;32m    325\u001b[0m \u001b[38;5;28;01mif\u001b[39;00m \u001b[38;5;28mlen\u001b[39m(args) \u001b[38;5;241m>\u001b[39m num_allow_args:\n\u001b[0;32m    326\u001b[0m     warnings\u001b[38;5;241m.\u001b[39mwarn(\n\u001b[0;32m    327\u001b[0m         msg\u001b[38;5;241m.\u001b[39mformat(arguments\u001b[38;5;241m=\u001b[39m_format_argument_list(allow_args)),\n\u001b[0;32m    328\u001b[0m         \u001b[38;5;167;01mFutureWarning\u001b[39;00m,\n\u001b[0;32m    329\u001b[0m         stacklevel\u001b[38;5;241m=\u001b[39mfind_stack_level(),\n\u001b[0;32m    330\u001b[0m     )\n\u001b[1;32m--> 331\u001b[0m \u001b[38;5;28;01mreturn\u001b[39;00m func(\u001b[38;5;241m*\u001b[39margs, \u001b[38;5;241m*\u001b[39m\u001b[38;5;241m*\u001b[39mkwargs)\n",
      "File \u001b[1;32mC:\\ProgramData\\anaconda3\\Lib\\site-packages\\pandas\\io\\parsers\\readers.py:950\u001b[0m, in \u001b[0;36mread_csv\u001b[1;34m(filepath_or_buffer, sep, delimiter, header, names, index_col, usecols, squeeze, prefix, mangle_dupe_cols, dtype, engine, converters, true_values, false_values, skipinitialspace, skiprows, skipfooter, nrows, na_values, keep_default_na, na_filter, verbose, skip_blank_lines, parse_dates, infer_datetime_format, keep_date_col, date_parser, dayfirst, cache_dates, iterator, chunksize, compression, thousands, decimal, lineterminator, quotechar, quoting, doublequote, escapechar, comment, encoding, encoding_errors, dialect, error_bad_lines, warn_bad_lines, on_bad_lines, delim_whitespace, low_memory, memory_map, float_precision, storage_options)\u001b[0m\n\u001b[0;32m    935\u001b[0m kwds_defaults \u001b[38;5;241m=\u001b[39m _refine_defaults_read(\n\u001b[0;32m    936\u001b[0m     dialect,\n\u001b[0;32m    937\u001b[0m     delimiter,\n\u001b[1;32m   (...)\u001b[0m\n\u001b[0;32m    946\u001b[0m     defaults\u001b[38;5;241m=\u001b[39m{\u001b[38;5;124m\"\u001b[39m\u001b[38;5;124mdelimiter\u001b[39m\u001b[38;5;124m\"\u001b[39m: \u001b[38;5;124m\"\u001b[39m\u001b[38;5;124m,\u001b[39m\u001b[38;5;124m\"\u001b[39m},\n\u001b[0;32m    947\u001b[0m )\n\u001b[0;32m    948\u001b[0m kwds\u001b[38;5;241m.\u001b[39mupdate(kwds_defaults)\n\u001b[1;32m--> 950\u001b[0m \u001b[38;5;28;01mreturn\u001b[39;00m _read(filepath_or_buffer, kwds)\n",
      "File \u001b[1;32mC:\\ProgramData\\anaconda3\\Lib\\site-packages\\pandas\\io\\parsers\\readers.py:605\u001b[0m, in \u001b[0;36m_read\u001b[1;34m(filepath_or_buffer, kwds)\u001b[0m\n\u001b[0;32m    602\u001b[0m _validate_names(kwds\u001b[38;5;241m.\u001b[39mget(\u001b[38;5;124m\"\u001b[39m\u001b[38;5;124mnames\u001b[39m\u001b[38;5;124m\"\u001b[39m, \u001b[38;5;28;01mNone\u001b[39;00m))\n\u001b[0;32m    604\u001b[0m \u001b[38;5;66;03m# Create the parser.\u001b[39;00m\n\u001b[1;32m--> 605\u001b[0m parser \u001b[38;5;241m=\u001b[39m TextFileReader(filepath_or_buffer, \u001b[38;5;241m*\u001b[39m\u001b[38;5;241m*\u001b[39mkwds)\n\u001b[0;32m    607\u001b[0m \u001b[38;5;28;01mif\u001b[39;00m chunksize \u001b[38;5;129;01mor\u001b[39;00m iterator:\n\u001b[0;32m    608\u001b[0m     \u001b[38;5;28;01mreturn\u001b[39;00m parser\n",
      "File \u001b[1;32mC:\\ProgramData\\anaconda3\\Lib\\site-packages\\pandas\\io\\parsers\\readers.py:1442\u001b[0m, in \u001b[0;36mTextFileReader.__init__\u001b[1;34m(self, f, engine, **kwds)\u001b[0m\n\u001b[0;32m   1439\u001b[0m     \u001b[38;5;28mself\u001b[39m\u001b[38;5;241m.\u001b[39moptions[\u001b[38;5;124m\"\u001b[39m\u001b[38;5;124mhas_index_names\u001b[39m\u001b[38;5;124m\"\u001b[39m] \u001b[38;5;241m=\u001b[39m kwds[\u001b[38;5;124m\"\u001b[39m\u001b[38;5;124mhas_index_names\u001b[39m\u001b[38;5;124m\"\u001b[39m]\n\u001b[0;32m   1441\u001b[0m \u001b[38;5;28mself\u001b[39m\u001b[38;5;241m.\u001b[39mhandles: IOHandles \u001b[38;5;241m|\u001b[39m \u001b[38;5;28;01mNone\u001b[39;00m \u001b[38;5;241m=\u001b[39m \u001b[38;5;28;01mNone\u001b[39;00m\n\u001b[1;32m-> 1442\u001b[0m \u001b[38;5;28mself\u001b[39m\u001b[38;5;241m.\u001b[39m_engine \u001b[38;5;241m=\u001b[39m \u001b[38;5;28mself\u001b[39m\u001b[38;5;241m.\u001b[39m_make_engine(f, \u001b[38;5;28mself\u001b[39m\u001b[38;5;241m.\u001b[39mengine)\n",
      "File \u001b[1;32mC:\\ProgramData\\anaconda3\\Lib\\site-packages\\pandas\\io\\parsers\\readers.py:1735\u001b[0m, in \u001b[0;36mTextFileReader._make_engine\u001b[1;34m(self, f, engine)\u001b[0m\n\u001b[0;32m   1733\u001b[0m     \u001b[38;5;28;01mif\u001b[39;00m \u001b[38;5;124m\"\u001b[39m\u001b[38;5;124mb\u001b[39m\u001b[38;5;124m\"\u001b[39m \u001b[38;5;129;01mnot\u001b[39;00m \u001b[38;5;129;01min\u001b[39;00m mode:\n\u001b[0;32m   1734\u001b[0m         mode \u001b[38;5;241m+\u001b[39m\u001b[38;5;241m=\u001b[39m \u001b[38;5;124m\"\u001b[39m\u001b[38;5;124mb\u001b[39m\u001b[38;5;124m\"\u001b[39m\n\u001b[1;32m-> 1735\u001b[0m \u001b[38;5;28mself\u001b[39m\u001b[38;5;241m.\u001b[39mhandles \u001b[38;5;241m=\u001b[39m get_handle(\n\u001b[0;32m   1736\u001b[0m     f,\n\u001b[0;32m   1737\u001b[0m     mode,\n\u001b[0;32m   1738\u001b[0m     encoding\u001b[38;5;241m=\u001b[39m\u001b[38;5;28mself\u001b[39m\u001b[38;5;241m.\u001b[39moptions\u001b[38;5;241m.\u001b[39mget(\u001b[38;5;124m\"\u001b[39m\u001b[38;5;124mencoding\u001b[39m\u001b[38;5;124m\"\u001b[39m, \u001b[38;5;28;01mNone\u001b[39;00m),\n\u001b[0;32m   1739\u001b[0m     compression\u001b[38;5;241m=\u001b[39m\u001b[38;5;28mself\u001b[39m\u001b[38;5;241m.\u001b[39moptions\u001b[38;5;241m.\u001b[39mget(\u001b[38;5;124m\"\u001b[39m\u001b[38;5;124mcompression\u001b[39m\u001b[38;5;124m\"\u001b[39m, \u001b[38;5;28;01mNone\u001b[39;00m),\n\u001b[0;32m   1740\u001b[0m     memory_map\u001b[38;5;241m=\u001b[39m\u001b[38;5;28mself\u001b[39m\u001b[38;5;241m.\u001b[39moptions\u001b[38;5;241m.\u001b[39mget(\u001b[38;5;124m\"\u001b[39m\u001b[38;5;124mmemory_map\u001b[39m\u001b[38;5;124m\"\u001b[39m, \u001b[38;5;28;01mFalse\u001b[39;00m),\n\u001b[0;32m   1741\u001b[0m     is_text\u001b[38;5;241m=\u001b[39mis_text,\n\u001b[0;32m   1742\u001b[0m     errors\u001b[38;5;241m=\u001b[39m\u001b[38;5;28mself\u001b[39m\u001b[38;5;241m.\u001b[39moptions\u001b[38;5;241m.\u001b[39mget(\u001b[38;5;124m\"\u001b[39m\u001b[38;5;124mencoding_errors\u001b[39m\u001b[38;5;124m\"\u001b[39m, \u001b[38;5;124m\"\u001b[39m\u001b[38;5;124mstrict\u001b[39m\u001b[38;5;124m\"\u001b[39m),\n\u001b[0;32m   1743\u001b[0m     storage_options\u001b[38;5;241m=\u001b[39m\u001b[38;5;28mself\u001b[39m\u001b[38;5;241m.\u001b[39moptions\u001b[38;5;241m.\u001b[39mget(\u001b[38;5;124m\"\u001b[39m\u001b[38;5;124mstorage_options\u001b[39m\u001b[38;5;124m\"\u001b[39m, \u001b[38;5;28;01mNone\u001b[39;00m),\n\u001b[0;32m   1744\u001b[0m )\n\u001b[0;32m   1745\u001b[0m \u001b[38;5;28;01massert\u001b[39;00m \u001b[38;5;28mself\u001b[39m\u001b[38;5;241m.\u001b[39mhandles \u001b[38;5;129;01mis\u001b[39;00m \u001b[38;5;129;01mnot\u001b[39;00m \u001b[38;5;28;01mNone\u001b[39;00m\n\u001b[0;32m   1746\u001b[0m f \u001b[38;5;241m=\u001b[39m \u001b[38;5;28mself\u001b[39m\u001b[38;5;241m.\u001b[39mhandles\u001b[38;5;241m.\u001b[39mhandle\n",
      "File \u001b[1;32mC:\\ProgramData\\anaconda3\\Lib\\site-packages\\pandas\\io\\common.py:856\u001b[0m, in \u001b[0;36mget_handle\u001b[1;34m(path_or_buf, mode, encoding, compression, memory_map, is_text, errors, storage_options)\u001b[0m\n\u001b[0;32m    851\u001b[0m \u001b[38;5;28;01melif\u001b[39;00m \u001b[38;5;28misinstance\u001b[39m(handle, \u001b[38;5;28mstr\u001b[39m):\n\u001b[0;32m    852\u001b[0m     \u001b[38;5;66;03m# Check whether the filename is to be opened in binary mode.\u001b[39;00m\n\u001b[0;32m    853\u001b[0m     \u001b[38;5;66;03m# Binary mode does not support 'encoding' and 'newline'.\u001b[39;00m\n\u001b[0;32m    854\u001b[0m     \u001b[38;5;28;01mif\u001b[39;00m ioargs\u001b[38;5;241m.\u001b[39mencoding \u001b[38;5;129;01mand\u001b[39;00m \u001b[38;5;124m\"\u001b[39m\u001b[38;5;124mb\u001b[39m\u001b[38;5;124m\"\u001b[39m \u001b[38;5;129;01mnot\u001b[39;00m \u001b[38;5;129;01min\u001b[39;00m ioargs\u001b[38;5;241m.\u001b[39mmode:\n\u001b[0;32m    855\u001b[0m         \u001b[38;5;66;03m# Encoding\u001b[39;00m\n\u001b[1;32m--> 856\u001b[0m         handle \u001b[38;5;241m=\u001b[39m \u001b[38;5;28mopen\u001b[39m(\n\u001b[0;32m    857\u001b[0m             handle,\n\u001b[0;32m    858\u001b[0m             ioargs\u001b[38;5;241m.\u001b[39mmode,\n\u001b[0;32m    859\u001b[0m             encoding\u001b[38;5;241m=\u001b[39mioargs\u001b[38;5;241m.\u001b[39mencoding,\n\u001b[0;32m    860\u001b[0m             errors\u001b[38;5;241m=\u001b[39merrors,\n\u001b[0;32m    861\u001b[0m             newline\u001b[38;5;241m=\u001b[39m\u001b[38;5;124m\"\u001b[39m\u001b[38;5;124m\"\u001b[39m,\n\u001b[0;32m    862\u001b[0m         )\n\u001b[0;32m    863\u001b[0m     \u001b[38;5;28;01melse\u001b[39;00m:\n\u001b[0;32m    864\u001b[0m         \u001b[38;5;66;03m# Binary mode\u001b[39;00m\n\u001b[0;32m    865\u001b[0m         handle \u001b[38;5;241m=\u001b[39m \u001b[38;5;28mopen\u001b[39m(handle, ioargs\u001b[38;5;241m.\u001b[39mmode)\n",
      "\u001b[1;31mFileNotFoundError\u001b[0m: [Errno 2] No such file or directory: '/kaggle/input/movie-lens-small-latest-dataset/tags.csv'"
     ]
    }
   ],
   "source": [
    "# import tags file\n",
    "tag = pd.read_csv(\"/kaggle/input/movie-lens-small-latest-dataset/tags.csv\")\n",
    "tag.head(3)"
   ]
  },
  {
   "cell_type": "code",
   "execution_count": null,
   "id": "685d4327",
   "metadata": {
    "execution": {
     "iopub.execute_input": "2024-05-22T17:43:20.771164Z",
     "iopub.status.busy": "2024-05-22T17:43:20.770332Z",
     "iopub.status.idle": "2024-05-22T17:43:20.805250Z",
     "shell.execute_reply": "2024-05-22T17:43:20.803743Z"
    },
    "papermill": {
     "duration": 0.054145,
     "end_time": "2024-05-22T17:43:20.808288",
     "exception": false,
     "start_time": "2024-05-22T17:43:20.754143",
     "status": "completed"
    },
    "tags": []
   },
   "outputs": [],
   "source": [
    "# merge  movie and tag file \n",
    "df = pd.merge(movie,tag,on=\"movieId\",how=\"left\")\n",
    "df.head(3)"
   ]
  },
  {
   "cell_type": "code",
   "execution_count": 7,
   "id": "53ef1fb5",
   "metadata": {
    "execution": {
     "iopub.execute_input": "2024-05-22T17:43:20.840004Z",
     "iopub.status.busy": "2024-05-22T17:43:20.839519Z",
     "iopub.status.idle": "2024-05-22T17:43:21.093118Z",
     "shell.execute_reply": "2024-05-22T17:43:21.091962Z"
    },
    "papermill": {
     "duration": 0.272922,
     "end_time": "2024-05-22T17:43:21.096066",
     "exception": false,
     "start_time": "2024-05-22T17:43:20.823144",
     "status": "completed"
    },
    "tags": []
   },
   "outputs": [
    {
     "ename": "NameError",
     "evalue": "name 'df' is not defined",
     "output_type": "error",
     "traceback": [
      "\u001b[1;31m---------------------------------------------------------------------------\u001b[0m",
      "\u001b[1;31mNameError\u001b[0m                                 Traceback (most recent call last)",
      "Cell \u001b[1;32mIn[7], line 4\u001b[0m\n\u001b[0;32m      1\u001b[0m \u001b[38;5;28;01mimport\u001b[39;00m \u001b[38;5;21;01mpandas\u001b[39;00m \u001b[38;5;28;01mas\u001b[39;00m \u001b[38;5;21;01mpd\u001b[39;00m\n\u001b[0;32m      3\u001b[0m \u001b[38;5;66;03m# make sure the \"df\" dataframe includes empty strings instead of NaN values\u001b[39;00m\n\u001b[1;32m----> 4\u001b[0m df\u001b[38;5;241m.\u001b[39mfillna(\u001b[38;5;124m\"\u001b[39m\u001b[38;5;124m\"\u001b[39m, inplace\u001b[38;5;241m=\u001b[39m\u001b[38;5;28;01mTrue\u001b[39;00m)\n\u001b[0;32m      6\u001b[0m \u001b[38;5;66;03m# create a new dataframe that groups tags by movieId and combines them into a single string\u001b[39;00m\n\u001b[0;32m      7\u001b[0m df \u001b[38;5;241m=\u001b[39m pd\u001b[38;5;241m.\u001b[39mDataFrame(df\u001b[38;5;241m.\u001b[39mgroupby(\u001b[38;5;124m\"\u001b[39m\u001b[38;5;124mmovieId\u001b[39m\u001b[38;5;124m\"\u001b[39m)[\u001b[38;5;124m\"\u001b[39m\u001b[38;5;124mtag\u001b[39m\u001b[38;5;124m\"\u001b[39m]\u001b[38;5;241m.\u001b[39mapply(\u001b[38;5;28;01mlambda\u001b[39;00m x: \u001b[38;5;124m\"\u001b[39m\u001b[38;5;132;01m%s\u001b[39;00m\u001b[38;5;124m\"\u001b[39m \u001b[38;5;241m%\u001b[39m \u001b[38;5;124m\"\u001b[39m\u001b[38;5;124m \u001b[39m\u001b[38;5;124m\"\u001b[39m\u001b[38;5;241m.\u001b[39mjoin(x)))\n",
      "\u001b[1;31mNameError\u001b[0m: name 'df' is not defined"
     ]
    }
   ],
   "source": [
    "import pandas as pd\n",
    "\n",
    "# make sure the \"df\" dataframe includes empty strings instead of NaN values\n",
    "df.fillna(\"\", inplace=True)\n",
    "\n",
    "# create a new dataframe that groups tags by movieId and combines them into a single string\n",
    "df = pd.DataFrame(df.groupby(\"movieId\")[\"tag\"].apply(lambda x: \"%s\" % \" \".join(x)))\n",
    "\n",
    "# show the resulting dataframe\n",
    "df\n",
    "\n"
   ]
  },
  {
   "cell_type": "code",
   "execution_count": 11,
   "id": "a2f04963",
   "metadata": {
    "execution": {
     "iopub.execute_input": "2024-05-22T17:43:21.129322Z",
     "iopub.status.busy": "2024-05-22T17:43:21.128851Z",
     "iopub.status.idle": "2024-05-22T17:43:21.282497Z",
     "shell.execute_reply": "2024-05-22T17:43:21.281183Z"
    },
    "papermill": {
     "duration": 0.173324,
     "end_time": "2024-05-22T17:43:21.285334",
     "exception": false,
     "start_time": "2024-05-22T17:43:21.112010",
     "status": "completed"
    },
    "tags": []
   },
   "outputs": [
    {
     "data": {
      "text/plain": [
       "0       pixar pixar fun adventure|animation|children|c...\n",
       "1       fantasy magic board game Robin Williams game a...\n",
       "2                                moldy old comedy|romance\n",
       "3                                    comedy|drama|romance\n",
       "4                                 pregnancy remake comedy\n",
       "                              ...                        \n",
       "9737                      action|animation|comedy|fantasy\n",
       "9738                             animation|comedy|fantasy\n",
       "9739                                                drama\n",
       "9740                                     action|animation\n",
       "9741                                               comedy\n",
       "Name: metadata, Length: 9742, dtype: object"
      ]
     },
     "execution_count": 11,
     "metadata": {},
     "output_type": "execute_result"
    }
   ],
   "source": [
    "#merge movie and df dataset\n",
    "new_df = pd.merge(movie,df ,on = \"movieId\" ,how=\"left\")\n",
    "new_df[\"metadata\"] = new_df[[\"tag\",\"genres\"]].apply(lambda x: \" \".join(x),axis=1)\n",
    "new_df[\"metadata\"]"
   ]
  },
  {
   "cell_type": "code",
   "execution_count": 12,
   "id": "c4b20cdd",
   "metadata": {
    "execution": {
     "iopub.execute_input": "2024-05-22T17:43:21.318164Z",
     "iopub.status.busy": "2024-05-22T17:43:21.317724Z",
     "iopub.status.idle": "2024-05-22T17:43:21.337627Z",
     "shell.execute_reply": "2024-05-22T17:43:21.336323Z"
    },
    "papermill": {
     "duration": 0.039568,
     "end_time": "2024-05-22T17:43:21.340317",
     "exception": false,
     "start_time": "2024-05-22T17:43:21.300749",
     "status": "completed"
    },
    "tags": []
   },
   "outputs": [
    {
     "data": {
      "text/html": [
       "<div>\n",
       "<style scoped>\n",
       "    .dataframe tbody tr th:only-of-type {\n",
       "        vertical-align: middle;\n",
       "    }\n",
       "\n",
       "    .dataframe tbody tr th {\n",
       "        vertical-align: top;\n",
       "    }\n",
       "\n",
       "    .dataframe thead th {\n",
       "        text-align: right;\n",
       "    }\n",
       "</style>\n",
       "<table border=\"1\" class=\"dataframe\">\n",
       "  <thead>\n",
       "    <tr style=\"text-align: right;\">\n",
       "      <th></th>\n",
       "      <th>movieId</th>\n",
       "      <th>title</th>\n",
       "      <th>metadata</th>\n",
       "      <th>Year</th>\n",
       "    </tr>\n",
       "  </thead>\n",
       "  <tbody>\n",
       "    <tr>\n",
       "      <th>0</th>\n",
       "      <td>1</td>\n",
       "      <td>Toy Story</td>\n",
       "      <td>pixar pixar fun adventure|animation|children|c...</td>\n",
       "      <td>1995</td>\n",
       "    </tr>\n",
       "    <tr>\n",
       "      <th>1</th>\n",
       "      <td>2</td>\n",
       "      <td>Jumanji</td>\n",
       "      <td>fantasy magic board game Robin Williams game a...</td>\n",
       "      <td>1995</td>\n",
       "    </tr>\n",
       "    <tr>\n",
       "      <th>2</th>\n",
       "      <td>3</td>\n",
       "      <td>Grumpier Old Men</td>\n",
       "      <td>moldy old comedy|romance</td>\n",
       "      <td>1995</td>\n",
       "    </tr>\n",
       "    <tr>\n",
       "      <th>3</th>\n",
       "      <td>4</td>\n",
       "      <td>Waiting to Exhale</td>\n",
       "      <td>comedy|drama|romance</td>\n",
       "      <td>1995</td>\n",
       "    </tr>\n",
       "    <tr>\n",
       "      <th>4</th>\n",
       "      <td>5</td>\n",
       "      <td>Father of the Bride Part II</td>\n",
       "      <td>pregnancy remake comedy</td>\n",
       "      <td>1995</td>\n",
       "    </tr>\n",
       "    <tr>\n",
       "      <th>...</th>\n",
       "      <td>...</td>\n",
       "      <td>...</td>\n",
       "      <td>...</td>\n",
       "      <td>...</td>\n",
       "    </tr>\n",
       "    <tr>\n",
       "      <th>9737</th>\n",
       "      <td>193581</td>\n",
       "      <td>Black Butler: Book of the Atlantic</td>\n",
       "      <td>action|animation|comedy|fantasy</td>\n",
       "      <td>2017</td>\n",
       "    </tr>\n",
       "    <tr>\n",
       "      <th>9738</th>\n",
       "      <td>193583</td>\n",
       "      <td>No Game No Life: Zero</td>\n",
       "      <td>animation|comedy|fantasy</td>\n",
       "      <td>2017</td>\n",
       "    </tr>\n",
       "    <tr>\n",
       "      <th>9739</th>\n",
       "      <td>193585</td>\n",
       "      <td>Flint</td>\n",
       "      <td>drama</td>\n",
       "      <td>2017</td>\n",
       "    </tr>\n",
       "    <tr>\n",
       "      <th>9740</th>\n",
       "      <td>193587</td>\n",
       "      <td>Bungo Stray Dogs: Dead Apple</td>\n",
       "      <td>action|animation</td>\n",
       "      <td>2018</td>\n",
       "    </tr>\n",
       "    <tr>\n",
       "      <th>9741</th>\n",
       "      <td>193609</td>\n",
       "      <td>Andrew Dice Clay: Dice Rules</td>\n",
       "      <td>comedy</td>\n",
       "      <td>1991</td>\n",
       "    </tr>\n",
       "  </tbody>\n",
       "</table>\n",
       "<p>9742 rows × 4 columns</p>\n",
       "</div>"
      ],
      "text/plain": [
       "      movieId                               title  \\\n",
       "0           1                           Toy Story   \n",
       "1           2                             Jumanji   \n",
       "2           3                    Grumpier Old Men   \n",
       "3           4                   Waiting to Exhale   \n",
       "4           5         Father of the Bride Part II   \n",
       "...       ...                                 ...   \n",
       "9737   193581  Black Butler: Book of the Atlantic   \n",
       "9738   193583               No Game No Life: Zero   \n",
       "9739   193585                               Flint   \n",
       "9740   193587        Bungo Stray Dogs: Dead Apple   \n",
       "9741   193609        Andrew Dice Clay: Dice Rules   \n",
       "\n",
       "                                               metadata  Year  \n",
       "0     pixar pixar fun adventure|animation|children|c...  1995  \n",
       "1     fantasy magic board game Robin Williams game a...  1995  \n",
       "2                              moldy old comedy|romance  1995  \n",
       "3                                  comedy|drama|romance  1995  \n",
       "4                               pregnancy remake comedy  1995  \n",
       "...                                                 ...   ...  \n",
       "9737                    action|animation|comedy|fantasy  2017  \n",
       "9738                           animation|comedy|fantasy  2017  \n",
       "9739                                              drama  2017  \n",
       "9740                                   action|animation  2018  \n",
       "9741                                             comedy  1991  \n",
       "\n",
       "[9742 rows x 4 columns]"
      ]
     },
     "execution_count": 12,
     "metadata": {},
     "output_type": "execute_result"
    }
   ],
   "source": [
    "# store movieId title metadata year in new_df\n",
    "new_df = new_df[[\"movieId\",\"title\",\"metadata\",\"Year\"]]\n",
    "new_df"
   ]
  },
  {
   "cell_type": "code",
   "execution_count": 13,
   "id": "91306caa",
   "metadata": {
    "execution": {
     "iopub.execute_input": "2024-05-22T17:43:21.373312Z",
     "iopub.status.busy": "2024-05-22T17:43:21.372858Z",
     "iopub.status.idle": "2024-05-22T17:43:21.409080Z",
     "shell.execute_reply": "2024-05-22T17:43:21.407563Z"
    },
    "papermill": {
     "duration": 0.05579,
     "end_time": "2024-05-22T17:43:21.411727",
     "exception": false,
     "start_time": "2024-05-22T17:43:21.355937",
     "status": "completed"
    },
    "tags": []
   },
   "outputs": [
    {
     "data": {
      "text/html": [
       "<div>\n",
       "<style scoped>\n",
       "    .dataframe tbody tr th:only-of-type {\n",
       "        vertical-align: middle;\n",
       "    }\n",
       "\n",
       "    .dataframe tbody tr th {\n",
       "        vertical-align: top;\n",
       "    }\n",
       "\n",
       "    .dataframe thead th {\n",
       "        text-align: right;\n",
       "    }\n",
       "</style>\n",
       "<table border=\"1\" class=\"dataframe\">\n",
       "  <thead>\n",
       "    <tr style=\"text-align: right;\">\n",
       "      <th></th>\n",
       "      <th>movieId</th>\n",
       "      <th>title</th>\n",
       "      <th>metadata</th>\n",
       "      <th>Year</th>\n",
       "    </tr>\n",
       "  </thead>\n",
       "  <tbody>\n",
       "    <tr>\n",
       "      <th>0</th>\n",
       "      <td>1</td>\n",
       "      <td>Toy Story</td>\n",
       "      <td>[pixar pixar fun adventure, animation, childre...</td>\n",
       "      <td>1995</td>\n",
       "    </tr>\n",
       "    <tr>\n",
       "      <th>1</th>\n",
       "      <td>2</td>\n",
       "      <td>Jumanji</td>\n",
       "      <td>[fantasy magic board game Robin Williams game ...</td>\n",
       "      <td>1995</td>\n",
       "    </tr>\n",
       "    <tr>\n",
       "      <th>2</th>\n",
       "      <td>3</td>\n",
       "      <td>Grumpier Old Men</td>\n",
       "      <td>[moldy old comedy, romance]</td>\n",
       "      <td>1995</td>\n",
       "    </tr>\n",
       "    <tr>\n",
       "      <th>3</th>\n",
       "      <td>4</td>\n",
       "      <td>Waiting to Exhale</td>\n",
       "      <td>[ comedy, drama, romance]</td>\n",
       "      <td>1995</td>\n",
       "    </tr>\n",
       "    <tr>\n",
       "      <th>4</th>\n",
       "      <td>5</td>\n",
       "      <td>Father of the Bride Part II</td>\n",
       "      <td>[pregnancy remake comedy]</td>\n",
       "      <td>1995</td>\n",
       "    </tr>\n",
       "    <tr>\n",
       "      <th>...</th>\n",
       "      <td>...</td>\n",
       "      <td>...</td>\n",
       "      <td>...</td>\n",
       "      <td>...</td>\n",
       "    </tr>\n",
       "    <tr>\n",
       "      <th>9737</th>\n",
       "      <td>193581</td>\n",
       "      <td>Black Butler: Book of the Atlantic</td>\n",
       "      <td>[ action, animation, comedy, fantasy]</td>\n",
       "      <td>2017</td>\n",
       "    </tr>\n",
       "    <tr>\n",
       "      <th>9738</th>\n",
       "      <td>193583</td>\n",
       "      <td>No Game No Life: Zero</td>\n",
       "      <td>[ animation, comedy, fantasy]</td>\n",
       "      <td>2017</td>\n",
       "    </tr>\n",
       "    <tr>\n",
       "      <th>9739</th>\n",
       "      <td>193585</td>\n",
       "      <td>Flint</td>\n",
       "      <td>[ drama]</td>\n",
       "      <td>2017</td>\n",
       "    </tr>\n",
       "    <tr>\n",
       "      <th>9740</th>\n",
       "      <td>193587</td>\n",
       "      <td>Bungo Stray Dogs: Dead Apple</td>\n",
       "      <td>[ action, animation]</td>\n",
       "      <td>2018</td>\n",
       "    </tr>\n",
       "    <tr>\n",
       "      <th>9741</th>\n",
       "      <td>193609</td>\n",
       "      <td>Andrew Dice Clay: Dice Rules</td>\n",
       "      <td>[ comedy]</td>\n",
       "      <td>1991</td>\n",
       "    </tr>\n",
       "  </tbody>\n",
       "</table>\n",
       "<p>9742 rows × 4 columns</p>\n",
       "</div>"
      ],
      "text/plain": [
       "      movieId                               title  \\\n",
       "0           1                           Toy Story   \n",
       "1           2                             Jumanji   \n",
       "2           3                    Grumpier Old Men   \n",
       "3           4                   Waiting to Exhale   \n",
       "4           5         Father of the Bride Part II   \n",
       "...       ...                                 ...   \n",
       "9737   193581  Black Butler: Book of the Atlantic   \n",
       "9738   193583               No Game No Life: Zero   \n",
       "9739   193585                               Flint   \n",
       "9740   193587        Bungo Stray Dogs: Dead Apple   \n",
       "9741   193609        Andrew Dice Clay: Dice Rules   \n",
       "\n",
       "                                               metadata  Year  \n",
       "0     [pixar pixar fun adventure, animation, childre...  1995  \n",
       "1     [fantasy magic board game Robin Williams game ...  1995  \n",
       "2                           [moldy old comedy, romance]  1995  \n",
       "3                             [ comedy, drama, romance]  1995  \n",
       "4                             [pregnancy remake comedy]  1995  \n",
       "...                                                 ...   ...  \n",
       "9737              [ action, animation, comedy, fantasy]  2017  \n",
       "9738                      [ animation, comedy, fantasy]  2017  \n",
       "9739                                           [ drama]  2017  \n",
       "9740                               [ action, animation]  2018  \n",
       "9741                                          [ comedy]  1991  \n",
       "\n",
       "[9742 rows x 4 columns]"
      ]
     },
     "execution_count": 13,
     "metadata": {},
     "output_type": "execute_result"
    }
   ],
   "source": [
    "# split |  from metadata \n",
    "new_df[\"metadata\"]=new_df.metadata.str.split(\"|\")\n",
    "new_df"
   ]
  },
  {
   "cell_type": "code",
   "execution_count": 14,
   "id": "ccfc1577",
   "metadata": {
    "execution": {
     "iopub.execute_input": "2024-05-22T17:43:21.446111Z",
     "iopub.status.busy": "2024-05-22T17:43:21.445676Z",
     "iopub.status.idle": "2024-05-22T17:43:21.453737Z",
     "shell.execute_reply": "2024-05-22T17:43:21.452548Z"
    },
    "papermill": {
     "duration": 0.028357,
     "end_time": "2024-05-22T17:43:21.456293",
     "exception": false,
     "start_time": "2024-05-22T17:43:21.427936",
     "status": "completed"
    },
    "tags": []
   },
   "outputs": [
    {
     "data": {
      "text/plain": [
       "(9742, 4)"
      ]
     },
     "execution_count": 14,
     "metadata": {},
     "output_type": "execute_result"
    }
   ],
   "source": [
    "# find shape of final dataset\n",
    "new_df.shape"
   ]
  },
  {
   "cell_type": "code",
   "execution_count": 15,
   "id": "39f0aab3",
   "metadata": {
    "execution": {
     "iopub.execute_input": "2024-05-22T17:43:21.491006Z",
     "iopub.status.busy": "2024-05-22T17:43:21.490535Z",
     "iopub.status.idle": "2024-05-22T17:43:21.529953Z",
     "shell.execute_reply": "2024-05-22T17:43:21.528664Z"
    },
    "papermill": {
     "duration": 0.059673,
     "end_time": "2024-05-22T17:43:21.532797",
     "exception": false,
     "start_time": "2024-05-22T17:43:21.473124",
     "status": "completed"
    },
    "tags": []
   },
   "outputs": [
    {
     "data": {
      "text/html": [
       "<div>\n",
       "<style scoped>\n",
       "    .dataframe tbody tr th:only-of-type {\n",
       "        vertical-align: middle;\n",
       "    }\n",
       "\n",
       "    .dataframe tbody tr th {\n",
       "        vertical-align: top;\n",
       "    }\n",
       "\n",
       "    .dataframe thead th {\n",
       "        text-align: right;\n",
       "    }\n",
       "</style>\n",
       "<table border=\"1\" class=\"dataframe\">\n",
       "  <thead>\n",
       "    <tr style=\"text-align: right;\">\n",
       "      <th></th>\n",
       "      <th>movieId</th>\n",
       "      <th>title</th>\n",
       "      <th>metadata</th>\n",
       "      <th>Year</th>\n",
       "    </tr>\n",
       "  </thead>\n",
       "  <tbody>\n",
       "    <tr>\n",
       "      <th>0</th>\n",
       "      <td>1</td>\n",
       "      <td>Toy Story</td>\n",
       "      <td>[pixarpixarfunadventure, animation, children, ...</td>\n",
       "      <td>1995</td>\n",
       "    </tr>\n",
       "    <tr>\n",
       "      <th>1</th>\n",
       "      <td>2</td>\n",
       "      <td>Jumanji</td>\n",
       "      <td>[fantasymagicboardgameRobinWilliamsgameadventu...</td>\n",
       "      <td>1995</td>\n",
       "    </tr>\n",
       "    <tr>\n",
       "      <th>2</th>\n",
       "      <td>3</td>\n",
       "      <td>Grumpier Old Men</td>\n",
       "      <td>[moldyoldcomedy, romance]</td>\n",
       "      <td>1995</td>\n",
       "    </tr>\n",
       "    <tr>\n",
       "      <th>3</th>\n",
       "      <td>4</td>\n",
       "      <td>Waiting to Exhale</td>\n",
       "      <td>[comedy, drama, romance]</td>\n",
       "      <td>1995</td>\n",
       "    </tr>\n",
       "    <tr>\n",
       "      <th>4</th>\n",
       "      <td>5</td>\n",
       "      <td>Father of the Bride Part II</td>\n",
       "      <td>[pregnancyremakecomedy]</td>\n",
       "      <td>1995</td>\n",
       "    </tr>\n",
       "    <tr>\n",
       "      <th>...</th>\n",
       "      <td>...</td>\n",
       "      <td>...</td>\n",
       "      <td>...</td>\n",
       "      <td>...</td>\n",
       "    </tr>\n",
       "    <tr>\n",
       "      <th>9737</th>\n",
       "      <td>193581</td>\n",
       "      <td>Black Butler: Book of the Atlantic</td>\n",
       "      <td>[action, animation, comedy, fantasy]</td>\n",
       "      <td>2017</td>\n",
       "    </tr>\n",
       "    <tr>\n",
       "      <th>9738</th>\n",
       "      <td>193583</td>\n",
       "      <td>No Game No Life: Zero</td>\n",
       "      <td>[animation, comedy, fantasy]</td>\n",
       "      <td>2017</td>\n",
       "    </tr>\n",
       "    <tr>\n",
       "      <th>9739</th>\n",
       "      <td>193585</td>\n",
       "      <td>Flint</td>\n",
       "      <td>[drama]</td>\n",
       "      <td>2017</td>\n",
       "    </tr>\n",
       "    <tr>\n",
       "      <th>9740</th>\n",
       "      <td>193587</td>\n",
       "      <td>Bungo Stray Dogs: Dead Apple</td>\n",
       "      <td>[action, animation]</td>\n",
       "      <td>2018</td>\n",
       "    </tr>\n",
       "    <tr>\n",
       "      <th>9741</th>\n",
       "      <td>193609</td>\n",
       "      <td>Andrew Dice Clay: Dice Rules</td>\n",
       "      <td>[comedy]</td>\n",
       "      <td>1991</td>\n",
       "    </tr>\n",
       "  </tbody>\n",
       "</table>\n",
       "<p>9742 rows × 4 columns</p>\n",
       "</div>"
      ],
      "text/plain": [
       "      movieId                               title  \\\n",
       "0           1                           Toy Story   \n",
       "1           2                             Jumanji   \n",
       "2           3                    Grumpier Old Men   \n",
       "3           4                   Waiting to Exhale   \n",
       "4           5         Father of the Bride Part II   \n",
       "...       ...                                 ...   \n",
       "9737   193581  Black Butler: Book of the Atlantic   \n",
       "9738   193583               No Game No Life: Zero   \n",
       "9739   193585                               Flint   \n",
       "9740   193587        Bungo Stray Dogs: Dead Apple   \n",
       "9741   193609        Andrew Dice Clay: Dice Rules   \n",
       "\n",
       "                                               metadata  Year  \n",
       "0     [pixarpixarfunadventure, animation, children, ...  1995  \n",
       "1     [fantasymagicboardgameRobinWilliamsgameadventu...  1995  \n",
       "2                             [moldyoldcomedy, romance]  1995  \n",
       "3                              [comedy, drama, romance]  1995  \n",
       "4                               [pregnancyremakecomedy]  1995  \n",
       "...                                                 ...   ...  \n",
       "9737               [action, animation, comedy, fantasy]  2017  \n",
       "9738                       [animation, comedy, fantasy]  2017  \n",
       "9739                                            [drama]  2017  \n",
       "9740                                [action, animation]  2018  \n",
       "9741                                           [comedy]  1991  \n",
       "\n",
       "[9742 rows x 4 columns]"
      ]
     },
     "execution_count": 15,
     "metadata": {},
     "output_type": "execute_result"
    }
   ],
   "source": [
    "# Remove all extra spaces from metadata column\n",
    "new_df['metadata']=new_df['metadata'].apply(lambda x:[i.replace(\" \",\"\") for i in x])\n",
    "new_df"
   ]
  },
  {
   "cell_type": "code",
   "execution_count": 16,
   "id": "3f92c6c5",
   "metadata": {
    "execution": {
     "iopub.execute_input": "2024-05-22T17:43:21.567492Z",
     "iopub.status.busy": "2024-05-22T17:43:21.567047Z",
     "iopub.status.idle": "2024-05-22T17:43:21.591309Z",
     "shell.execute_reply": "2024-05-22T17:43:21.590101Z"
    },
    "papermill": {
     "duration": 0.044848,
     "end_time": "2024-05-22T17:43:21.594157",
     "exception": false,
     "start_time": "2024-05-22T17:43:21.549309",
     "status": "completed"
    },
    "tags": []
   },
   "outputs": [
    {
     "data": {
      "text/html": [
       "<div>\n",
       "<style scoped>\n",
       "    .dataframe tbody tr th:only-of-type {\n",
       "        vertical-align: middle;\n",
       "    }\n",
       "\n",
       "    .dataframe tbody tr th {\n",
       "        vertical-align: top;\n",
       "    }\n",
       "\n",
       "    .dataframe thead th {\n",
       "        text-align: right;\n",
       "    }\n",
       "</style>\n",
       "<table border=\"1\" class=\"dataframe\">\n",
       "  <thead>\n",
       "    <tr style=\"text-align: right;\">\n",
       "      <th></th>\n",
       "      <th>movieId</th>\n",
       "      <th>title</th>\n",
       "      <th>metadata</th>\n",
       "      <th>Year</th>\n",
       "    </tr>\n",
       "  </thead>\n",
       "  <tbody>\n",
       "    <tr>\n",
       "      <th>0</th>\n",
       "      <td>1</td>\n",
       "      <td>Toy Story</td>\n",
       "      <td>pixarpixarfunadventure animation children come...</td>\n",
       "      <td>1995</td>\n",
       "    </tr>\n",
       "    <tr>\n",
       "      <th>1</th>\n",
       "      <td>2</td>\n",
       "      <td>Jumanji</td>\n",
       "      <td>fantasymagicboardgameRobinWilliamsgameadventur...</td>\n",
       "      <td>1995</td>\n",
       "    </tr>\n",
       "    <tr>\n",
       "      <th>2</th>\n",
       "      <td>3</td>\n",
       "      <td>Grumpier Old Men</td>\n",
       "      <td>moldyoldcomedy romance</td>\n",
       "      <td>1995</td>\n",
       "    </tr>\n",
       "    <tr>\n",
       "      <th>3</th>\n",
       "      <td>4</td>\n",
       "      <td>Waiting to Exhale</td>\n",
       "      <td>comedy drama romance</td>\n",
       "      <td>1995</td>\n",
       "    </tr>\n",
       "    <tr>\n",
       "      <th>4</th>\n",
       "      <td>5</td>\n",
       "      <td>Father of the Bride Part II</td>\n",
       "      <td>pregnancyremakecomedy</td>\n",
       "      <td>1995</td>\n",
       "    </tr>\n",
       "    <tr>\n",
       "      <th>...</th>\n",
       "      <td>...</td>\n",
       "      <td>...</td>\n",
       "      <td>...</td>\n",
       "      <td>...</td>\n",
       "    </tr>\n",
       "    <tr>\n",
       "      <th>9737</th>\n",
       "      <td>193581</td>\n",
       "      <td>Black Butler: Book of the Atlantic</td>\n",
       "      <td>action animation comedy fantasy</td>\n",
       "      <td>2017</td>\n",
       "    </tr>\n",
       "    <tr>\n",
       "      <th>9738</th>\n",
       "      <td>193583</td>\n",
       "      <td>No Game No Life: Zero</td>\n",
       "      <td>animation comedy fantasy</td>\n",
       "      <td>2017</td>\n",
       "    </tr>\n",
       "    <tr>\n",
       "      <th>9739</th>\n",
       "      <td>193585</td>\n",
       "      <td>Flint</td>\n",
       "      <td>drama</td>\n",
       "      <td>2017</td>\n",
       "    </tr>\n",
       "    <tr>\n",
       "      <th>9740</th>\n",
       "      <td>193587</td>\n",
       "      <td>Bungo Stray Dogs: Dead Apple</td>\n",
       "      <td>action animation</td>\n",
       "      <td>2018</td>\n",
       "    </tr>\n",
       "    <tr>\n",
       "      <th>9741</th>\n",
       "      <td>193609</td>\n",
       "      <td>Andrew Dice Clay: Dice Rules</td>\n",
       "      <td>comedy</td>\n",
       "      <td>1991</td>\n",
       "    </tr>\n",
       "  </tbody>\n",
       "</table>\n",
       "<p>9742 rows × 4 columns</p>\n",
       "</div>"
      ],
      "text/plain": [
       "      movieId                               title  \\\n",
       "0           1                           Toy Story   \n",
       "1           2                             Jumanji   \n",
       "2           3                    Grumpier Old Men   \n",
       "3           4                   Waiting to Exhale   \n",
       "4           5         Father of the Bride Part II   \n",
       "...       ...                                 ...   \n",
       "9737   193581  Black Butler: Book of the Atlantic   \n",
       "9738   193583               No Game No Life: Zero   \n",
       "9739   193585                               Flint   \n",
       "9740   193587        Bungo Stray Dogs: Dead Apple   \n",
       "9741   193609        Andrew Dice Clay: Dice Rules   \n",
       "\n",
       "                                               metadata  Year  \n",
       "0     pixarpixarfunadventure animation children come...  1995  \n",
       "1     fantasymagicboardgameRobinWilliamsgameadventur...  1995  \n",
       "2                                moldyoldcomedy romance  1995  \n",
       "3                                  comedy drama romance  1995  \n",
       "4                                 pregnancyremakecomedy  1995  \n",
       "...                                                 ...   ...  \n",
       "9737                    action animation comedy fantasy  2017  \n",
       "9738                           animation comedy fantasy  2017  \n",
       "9739                                              drama  2017  \n",
       "9740                                   action animation  2018  \n",
       "9741                                             comedy  1991  \n",
       "\n",
       "[9742 rows x 4 columns]"
      ]
     },
     "execution_count": 16,
     "metadata": {},
     "output_type": "execute_result"
    }
   ],
   "source": [
    "# join metadata spaces\n",
    "new_df['metadata']=new_df['metadata'].apply(lambda x:\" \".join(x))\n",
    "new_df"
   ]
  },
  {
   "cell_type": "code",
   "execution_count": 17,
   "id": "5949b695",
   "metadata": {
    "execution": {
     "iopub.execute_input": "2024-05-22T17:43:21.630995Z",
     "iopub.status.busy": "2024-05-22T17:43:21.629862Z",
     "iopub.status.idle": "2024-05-22T17:43:21.646977Z",
     "shell.execute_reply": "2024-05-22T17:43:21.645743Z"
    },
    "papermill": {
     "duration": 0.038419,
     "end_time": "2024-05-22T17:43:21.649793",
     "exception": false,
     "start_time": "2024-05-22T17:43:21.611374",
     "status": "completed"
    },
    "tags": []
   },
   "outputs": [
    {
     "data": {
      "text/html": [
       "<div>\n",
       "<style scoped>\n",
       "    .dataframe tbody tr th:only-of-type {\n",
       "        vertical-align: middle;\n",
       "    }\n",
       "\n",
       "    .dataframe tbody tr th {\n",
       "        vertical-align: top;\n",
       "    }\n",
       "\n",
       "    .dataframe thead th {\n",
       "        text-align: right;\n",
       "    }\n",
       "</style>\n",
       "<table border=\"1\" class=\"dataframe\">\n",
       "  <thead>\n",
       "    <tr style=\"text-align: right;\">\n",
       "      <th></th>\n",
       "      <th>movieId</th>\n",
       "      <th>title</th>\n",
       "      <th>metadata</th>\n",
       "      <th>Year</th>\n",
       "    </tr>\n",
       "  </thead>\n",
       "  <tbody>\n",
       "    <tr>\n",
       "      <th>0</th>\n",
       "      <td>1</td>\n",
       "      <td>Toy Story</td>\n",
       "      <td>pixarpixarfunadventure animation children come...</td>\n",
       "      <td>1995</td>\n",
       "    </tr>\n",
       "    <tr>\n",
       "      <th>1</th>\n",
       "      <td>2</td>\n",
       "      <td>Jumanji</td>\n",
       "      <td>fantasymagicboardgameRobinWilliamsgameadventur...</td>\n",
       "      <td>1995</td>\n",
       "    </tr>\n",
       "    <tr>\n",
       "      <th>2</th>\n",
       "      <td>3</td>\n",
       "      <td>Grumpier Old Men</td>\n",
       "      <td>moldyoldcomedy romance</td>\n",
       "      <td>1995</td>\n",
       "    </tr>\n",
       "    <tr>\n",
       "      <th>3</th>\n",
       "      <td>4</td>\n",
       "      <td>Waiting to Exhale</td>\n",
       "      <td>comedy drama romance</td>\n",
       "      <td>1995</td>\n",
       "    </tr>\n",
       "    <tr>\n",
       "      <th>4</th>\n",
       "      <td>5</td>\n",
       "      <td>Father of the Bride Part II</td>\n",
       "      <td>pregnancyremakecomedy</td>\n",
       "      <td>1995</td>\n",
       "    </tr>\n",
       "    <tr>\n",
       "      <th>...</th>\n",
       "      <td>...</td>\n",
       "      <td>...</td>\n",
       "      <td>...</td>\n",
       "      <td>...</td>\n",
       "    </tr>\n",
       "    <tr>\n",
       "      <th>9737</th>\n",
       "      <td>193581</td>\n",
       "      <td>Black Butler: Book of the Atlantic</td>\n",
       "      <td>action animation comedy fantasy</td>\n",
       "      <td>2017</td>\n",
       "    </tr>\n",
       "    <tr>\n",
       "      <th>9738</th>\n",
       "      <td>193583</td>\n",
       "      <td>No Game No Life: Zero</td>\n",
       "      <td>animation comedy fantasy</td>\n",
       "      <td>2017</td>\n",
       "    </tr>\n",
       "    <tr>\n",
       "      <th>9739</th>\n",
       "      <td>193585</td>\n",
       "      <td>Flint</td>\n",
       "      <td>drama</td>\n",
       "      <td>2017</td>\n",
       "    </tr>\n",
       "    <tr>\n",
       "      <th>9740</th>\n",
       "      <td>193587</td>\n",
       "      <td>Bungo Stray Dogs: Dead Apple</td>\n",
       "      <td>action animation</td>\n",
       "      <td>2018</td>\n",
       "    </tr>\n",
       "    <tr>\n",
       "      <th>9741</th>\n",
       "      <td>193609</td>\n",
       "      <td>Andrew Dice Clay: Dice Rules</td>\n",
       "      <td>comedy</td>\n",
       "      <td>1991</td>\n",
       "    </tr>\n",
       "  </tbody>\n",
       "</table>\n",
       "<p>9742 rows × 4 columns</p>\n",
       "</div>"
      ],
      "text/plain": [
       "      movieId                               title  \\\n",
       "0           1                           Toy Story   \n",
       "1           2                             Jumanji   \n",
       "2           3                    Grumpier Old Men   \n",
       "3           4                   Waiting to Exhale   \n",
       "4           5         Father of the Bride Part II   \n",
       "...       ...                                 ...   \n",
       "9737   193581  Black Butler: Book of the Atlantic   \n",
       "9738   193583               No Game No Life: Zero   \n",
       "9739   193585                               Flint   \n",
       "9740   193587        Bungo Stray Dogs: Dead Apple   \n",
       "9741   193609        Andrew Dice Clay: Dice Rules   \n",
       "\n",
       "                                               metadata  Year  \n",
       "0     pixarpixarfunadventure animation children come...  1995  \n",
       "1     fantasymagicboardgameRobinWilliamsgameadventur...  1995  \n",
       "2                                moldyoldcomedy romance  1995  \n",
       "3                                  comedy drama romance  1995  \n",
       "4                                 pregnancyremakecomedy  1995  \n",
       "...                                                 ...   ...  \n",
       "9737                    action animation comedy fantasy  2017  \n",
       "9738                           animation comedy fantasy  2017  \n",
       "9739                                              drama  2017  \n",
       "9740                                   action animation  2018  \n",
       "9741                                             comedy  1991  \n",
       "\n",
       "[9742 rows x 4 columns]"
      ]
     },
     "execution_count": 17,
     "metadata": {},
     "output_type": "execute_result"
    }
   ],
   "source": [
    "# check new_df \n",
    "new_df"
   ]
  },
  {
   "cell_type": "code",
   "execution_count": 18,
   "id": "41377c98",
   "metadata": {
    "execution": {
     "iopub.execute_input": "2024-05-22T17:43:21.686582Z",
     "iopub.status.busy": "2024-05-22T17:43:21.686110Z",
     "iopub.status.idle": "2024-05-22T17:43:21.697345Z",
     "shell.execute_reply": "2024-05-22T17:43:21.696196Z"
    },
    "papermill": {
     "duration": 0.03295,
     "end_time": "2024-05-22T17:43:21.700083",
     "exception": false,
     "start_time": "2024-05-22T17:43:21.667133",
     "status": "completed"
    },
    "tags": []
   },
   "outputs": [
    {
     "data": {
      "text/plain": [
       "Int64Index([1], dtype='int64')"
      ]
     },
     "execution_count": 18,
     "metadata": {},
     "output_type": "execute_result"
    }
   ],
   "source": [
    "# Find indexing position\n",
    "x = new_df[new_df[\"title\"]==\"Jumanji\"].index\n",
    "x"
   ]
  },
  {
   "cell_type": "code",
   "execution_count": 19,
   "id": "9f5dd5c1",
   "metadata": {
    "execution": {
     "iopub.execute_input": "2024-05-22T17:43:21.736967Z",
     "iopub.status.busy": "2024-05-22T17:43:21.736536Z",
     "iopub.status.idle": "2024-05-22T17:43:21.746550Z",
     "shell.execute_reply": "2024-05-22T17:43:21.745257Z"
    },
    "papermill": {
     "duration": 0.031683,
     "end_time": "2024-05-22T17:43:21.749293",
     "exception": false,
     "start_time": "2024-05-22T17:43:21.717610",
     "status": "completed"
    },
    "tags": []
   },
   "outputs": [
    {
     "data": {
      "text/plain": [
       "'pixarpixarfunadventure animation children comedy fantasy'"
      ]
     },
     "execution_count": 19,
     "metadata": {},
     "output_type": "execute_result"
    }
   ],
   "source": [
    "# check 0th location of new_df\n",
    "new_df['metadata'][0]"
   ]
  },
  {
   "cell_type": "code",
   "execution_count": 20,
   "id": "2dbcd108",
   "metadata": {
    "execution": {
     "iopub.execute_input": "2024-05-22T17:43:21.787670Z",
     "iopub.status.busy": "2024-05-22T17:43:21.786774Z",
     "iopub.status.idle": "2024-05-22T17:43:21.796591Z",
     "shell.execute_reply": "2024-05-22T17:43:21.795256Z"
    },
    "papermill": {
     "duration": 0.032577,
     "end_time": "2024-05-22T17:43:21.799739",
     "exception": false,
     "start_time": "2024-05-22T17:43:21.767162",
     "status": "completed"
    },
    "tags": []
   },
   "outputs": [
    {
     "data": {
      "text/plain": [
       "array([[1, 'Toy Story',\n",
       "        'pixarpixarfunadventure animation children comedy fantasy',\n",
       "        '1995'],\n",
       "       [2, 'Jumanji',\n",
       "        'fantasymagicboardgameRobinWilliamsgameadventure children fantasy',\n",
       "        '1995'],\n",
       "       [3, 'Grumpier Old Men', 'moldyoldcomedy romance', '1995'],\n",
       "       ...,\n",
       "       [193585, 'Flint', 'drama', '2017'],\n",
       "       [193587, 'Bungo Stray Dogs: Dead Apple', 'action animation',\n",
       "        '2018'],\n",
       "       [193609, 'Andrew Dice Clay: Dice Rules', 'comedy', '1991']],\n",
       "      dtype=object)"
      ]
     },
     "execution_count": 20,
     "metadata": {},
     "output_type": "execute_result"
    }
   ],
   "source": [
    "# check values of new_df\n",
    "new_df.values\n"
   ]
  },
  {
   "cell_type": "code",
   "execution_count": 21,
   "id": "e244290d",
   "metadata": {
    "execution": {
     "iopub.execute_input": "2024-05-22T17:43:21.837681Z",
     "iopub.status.busy": "2024-05-22T17:43:21.836953Z",
     "iopub.status.idle": "2024-05-22T17:43:21.844464Z",
     "shell.execute_reply": "2024-05-22T17:43:21.843200Z"
    },
    "papermill": {
     "duration": 0.029666,
     "end_time": "2024-05-22T17:43:21.847256",
     "exception": false,
     "start_time": "2024-05-22T17:43:21.817590",
     "status": "completed"
    },
    "tags": []
   },
   "outputs": [
    {
     "data": {
      "text/plain": [
       "pandas.core.frame.DataFrame"
      ]
     },
     "execution_count": 21,
     "metadata": {},
     "output_type": "execute_result"
    }
   ],
   "source": [
    "# check type of new_df\n",
    "type(new_df)"
   ]
  },
  {
   "cell_type": "code",
   "execution_count": 22,
   "id": "fa3fd7df",
   "metadata": {
    "execution": {
     "iopub.execute_input": "2024-05-22T17:43:21.885465Z",
     "iopub.status.busy": "2024-05-22T17:43:21.885039Z",
     "iopub.status.idle": "2024-05-22T17:43:21.892790Z",
     "shell.execute_reply": "2024-05-22T17:43:21.891625Z"
    },
    "papermill": {
     "duration": 0.030052,
     "end_time": "2024-05-22T17:43:21.895393",
     "exception": false,
     "start_time": "2024-05-22T17:43:21.865341",
     "status": "completed"
    },
    "tags": []
   },
   "outputs": [
    {
     "data": {
      "text/plain": [
       "(9742, 4)"
      ]
     },
     "execution_count": 22,
     "metadata": {},
     "output_type": "execute_result"
    }
   ],
   "source": [
    "# check shape of dataframe\n",
    "new_df.shape"
   ]
  },
  {
   "cell_type": "markdown",
   "id": "35379a9f",
   "metadata": {
    "papermill": {
     "duration": 0.017768,
     "end_time": "2024-05-22T17:43:21.931304",
     "exception": false,
     "start_time": "2024-05-22T17:43:21.913536",
     "status": "completed"
    },
    "tags": []
   },
   "source": [
    "# Convert Dataframe into sparse matrix"
   ]
  },
  {
   "cell_type": "code",
   "execution_count": 23,
   "id": "9b94d5ed",
   "metadata": {
    "execution": {
     "iopub.execute_input": "2024-05-22T17:43:21.969583Z",
     "iopub.status.busy": "2024-05-22T17:43:21.969081Z",
     "iopub.status.idle": "2024-05-22T17:43:23.078928Z",
     "shell.execute_reply": "2024-05-22T17:43:23.077516Z"
    },
    "papermill": {
     "duration": 1.133115,
     "end_time": "2024-05-22T17:43:23.082708",
     "exception": false,
     "start_time": "2024-05-22T17:43:21.949593",
     "status": "completed"
    },
    "tags": []
   },
   "outputs": [],
   "source": [
    "# for create vector using TfidfVectorizer library\n",
    "from sklearn.feature_extraction.text import TfidfVectorizer \n",
    "tfid = TfidfVectorizer(stop_words='english')\n",
    "new_df['metadata'] = new_df['metadata'].fillna('')"
   ]
  },
  {
   "cell_type": "code",
   "execution_count": 24,
   "id": "07e73bf8",
   "metadata": {
    "execution": {
     "iopub.execute_input": "2024-05-22T17:43:23.136011Z",
     "iopub.status.busy": "2024-05-22T17:43:23.135371Z",
     "iopub.status.idle": "2024-05-22T17:43:23.251362Z",
     "shell.execute_reply": "2024-05-22T17:43:23.249859Z"
    },
    "papermill": {
     "duration": 0.1461,
     "end_time": "2024-05-22T17:43:23.255049",
     "exception": false,
     "start_time": "2024-05-22T17:43:23.108949",
     "status": "completed"
    },
    "tags": []
   },
   "outputs": [
    {
     "data": {
      "text/plain": [
       "<9742x1360 sparse matrix of type '<class 'numpy.float64'>'\n",
       "\twith 23318 stored elements in Compressed Sparse Row format>"
      ]
     },
     "execution_count": 24,
     "metadata": {},
     "output_type": "execute_result"
    }
   ],
   "source": [
    "tfv_matrix = tfid.fit_transform(new_df['metadata'])\n",
    "tfv_matrix"
   ]
  },
  {
   "cell_type": "code",
   "execution_count": 25,
   "id": "2c2c790e",
   "metadata": {
    "execution": {
     "iopub.execute_input": "2024-05-22T17:43:23.299550Z",
     "iopub.status.busy": "2024-05-22T17:43:23.299072Z",
     "iopub.status.idle": "2024-05-22T17:43:23.306654Z",
     "shell.execute_reply": "2024-05-22T17:43:23.305323Z"
    },
    "papermill": {
     "duration": 0.034479,
     "end_time": "2024-05-22T17:43:23.309306",
     "exception": false,
     "start_time": "2024-05-22T17:43:23.274827",
     "status": "completed"
    },
    "tags": []
   },
   "outputs": [
    {
     "data": {
      "text/plain": [
       "(9742, 1360)"
      ]
     },
     "execution_count": 25,
     "metadata": {},
     "output_type": "execute_result"
    }
   ],
   "source": [
    "# check shape of matrix\n",
    "tfv_matrix.shape"
   ]
  },
  {
   "cell_type": "code",
   "execution_count": 26,
   "id": "8573dc8e",
   "metadata": {
    "execution": {
     "iopub.execute_input": "2024-05-22T17:43:23.348860Z",
     "iopub.status.busy": "2024-05-22T17:43:23.348420Z",
     "iopub.status.idle": "2024-05-22T17:43:25.343161Z",
     "shell.execute_reply": "2024-05-22T17:43:25.341953Z"
    },
    "papermill": {
     "duration": 2.017721,
     "end_time": "2024-05-22T17:43:25.346201",
     "exception": false,
     "start_time": "2024-05-22T17:43:23.328480",
     "status": "completed"
    },
    "tags": []
   },
   "outputs": [],
   "source": [
    "# import linear_kernel from sklearn\n",
    "from sklearn.metrics.pairwise import linear_kernel\n",
    "### compute the sigmoid kernel\n",
    "sig = linear_kernel(tfv_matrix, tfv_matrix)"
   ]
  },
  {
   "cell_type": "code",
   "execution_count": 27,
   "id": "da8f8eb8",
   "metadata": {
    "execution": {
     "iopub.execute_input": "2024-05-22T17:43:25.387493Z",
     "iopub.status.busy": "2024-05-22T17:43:25.386236Z",
     "iopub.status.idle": "2024-05-22T17:43:25.393138Z",
     "shell.execute_reply": "2024-05-22T17:43:25.392048Z"
    },
    "papermill": {
     "duration": 0.030162,
     "end_time": "2024-05-22T17:43:25.395661",
     "exception": false,
     "start_time": "2024-05-22T17:43:25.365499",
     "status": "completed"
    },
    "tags": []
   },
   "outputs": [],
   "source": [
    "# store index of title \n",
    "indices = pd.Series(new_df.index, index=new_df[\"title\"])"
   ]
  },
  {
   "cell_type": "code",
   "execution_count": 28,
   "id": "ed7a38cc",
   "metadata": {
    "execution": {
     "iopub.execute_input": "2024-05-22T17:43:25.434574Z",
     "iopub.status.busy": "2024-05-22T17:43:25.434109Z",
     "iopub.status.idle": "2024-05-22T17:43:25.445921Z",
     "shell.execute_reply": "2024-05-22T17:43:25.444659Z"
    },
    "papermill": {
     "duration": 0.034451,
     "end_time": "2024-05-22T17:43:25.448668",
     "exception": false,
     "start_time": "2024-05-22T17:43:25.414217",
     "status": "completed"
    },
    "tags": []
   },
   "outputs": [
    {
     "data": {
      "text/plain": [
       "title\n",
       "Toy Story                                0\n",
       "Jumanji                                  1\n",
       "Grumpier Old Men                         2\n",
       "Waiting to Exhale                        3\n",
       "Father of the Bride Part II              4\n",
       "                                      ... \n",
       "Black Butler: Book of the Atlantic    9737\n",
       "No Game No Life: Zero                 9738\n",
       "Flint                                 9739\n",
       "Bungo Stray Dogs: Dead Apple          9740\n",
       "Andrew Dice Clay: Dice Rules          9741\n",
       "Length: 9742, dtype: int64"
      ]
     },
     "execution_count": 28,
     "metadata": {},
     "output_type": "execute_result"
    }
   ],
   "source": [
    "indices"
   ]
  },
  {
   "cell_type": "code",
   "execution_count": 29,
   "id": "10f19971",
   "metadata": {
    "execution": {
     "iopub.execute_input": "2024-05-22T17:43:25.488348Z",
     "iopub.status.busy": "2024-05-22T17:43:25.487910Z",
     "iopub.status.idle": "2024-05-22T17:43:25.496681Z",
     "shell.execute_reply": "2024-05-22T17:43:25.495364Z"
    },
    "papermill": {
     "duration": 0.031831,
     "end_time": "2024-05-22T17:43:25.499115",
     "exception": false,
     "start_time": "2024-05-22T17:43:25.467284",
     "status": "completed"
    },
    "tags": []
   },
   "outputs": [
    {
     "data": {
      "text/plain": [
       "0"
      ]
     },
     "execution_count": 29,
     "metadata": {},
     "output_type": "execute_result"
    }
   ],
   "source": [
    "indices[\"Toy Story\"]"
   ]
  },
  {
   "cell_type": "markdown",
   "id": "c579b8d1",
   "metadata": {
    "papermill": {
     "duration": 0.018218,
     "end_time": "2024-05-22T17:43:25.535797",
     "exception": false,
     "start_time": "2024-05-22T17:43:25.517579",
     "status": "completed"
    },
    "tags": []
   },
   "source": [
    "# Create a function for movie recomendation"
   ]
  },
  {
   "cell_type": "code",
   "execution_count": 30,
   "id": "66b02eff",
   "metadata": {
    "execution": {
     "iopub.execute_input": "2024-05-22T17:43:25.574971Z",
     "iopub.status.busy": "2024-05-22T17:43:25.574503Z",
     "iopub.status.idle": "2024-05-22T17:43:25.582623Z",
     "shell.execute_reply": "2024-05-22T17:43:25.581320Z"
    },
    "papermill": {
     "duration": 0.030771,
     "end_time": "2024-05-22T17:43:25.585263",
     "exception": false,
     "start_time": "2024-05-22T17:43:25.554492",
     "status": "completed"
    },
    "tags": []
   },
   "outputs": [],
   "source": [
    "def recomend_movie(title,cosine_sin=sig):\n",
    "    idx = indices[title]\n",
    "    sim_scores = enumerate(cosine_sin[idx])\n",
    "    sim_scores = sorted(sim_scores, key=lambda x : x[1], reverse=True)\n",
    "    # how many movies will recomend is set here\n",
    "    sim_scores = sim_scores[1:10]            \n",
    "    movies_indices = [i[0] for i in sim_scores]\n",
    "    movie_rec = new_df['title'].iloc[movies_indices].reset_index\n",
    "    print(movie_rec)"
   ]
  },
  {
   "cell_type": "markdown",
   "id": "f9467816",
   "metadata": {
    "papermill": {
     "duration": 0.018211,
     "end_time": "2024-05-22T17:43:25.622064",
     "exception": false,
     "start_time": "2024-05-22T17:43:25.603853",
     "status": "completed"
    },
    "tags": []
   },
   "source": [
    "# Recommendation System"
   ]
  },
  {
   "cell_type": "code",
   "execution_count": 31,
   "id": "3c176bcd",
   "metadata": {
    "execution": {
     "iopub.execute_input": "2024-05-22T17:43:25.660845Z",
     "iopub.status.busy": "2024-05-22T17:43:25.660365Z",
     "iopub.status.idle": "2024-05-22T17:43:25.678986Z",
     "shell.execute_reply": "2024-05-22T17:43:25.677671Z"
    },
    "papermill": {
     "duration": 0.041576,
     "end_time": "2024-05-22T17:43:25.682045",
     "exception": false,
     "start_time": "2024-05-22T17:43:25.640469",
     "status": "completed"
    },
    "tags": []
   },
   "outputs": [
    {
     "name": "stdout",
     "output_type": "stream",
     "text": [
      "<bound method Series.reset_index of 7184                          Partly Cloudy\n",
      "7917                                 Presto\n",
      "8273    Cloudy with a Chance of Meatballs 2\n",
      "8674      Stuart Little 3: Call of the Wild\n",
      "9536           Last Year's Snow Was Falling\n",
      "9560                   Wow! A Talking Fish!\n",
      "1584                  All Dogs Go to Heaven\n",
      "2160                             Thumbelina\n",
      "3937                  Care Bears Movie, The\n",
      "Name: title, dtype: object>\n"
     ]
    }
   ],
   "source": [
    "recomend_movie(\"Toy Story\")"
   ]
  },
  {
   "cell_type": "code",
   "execution_count": 32,
   "id": "ff13568c",
   "metadata": {
    "execution": {
     "iopub.execute_input": "2024-05-22T17:43:25.721550Z",
     "iopub.status.busy": "2024-05-22T17:43:25.721044Z",
     "iopub.status.idle": "2024-05-22T17:43:25.737959Z",
     "shell.execute_reply": "2024-05-22T17:43:25.736560Z"
    },
    "papermill": {
     "duration": 0.039767,
     "end_time": "2024-05-22T17:43:25.740704",
     "exception": false,
     "start_time": "2024-05-22T17:43:25.700937",
     "status": "completed"
    },
    "tags": []
   },
   "outputs": [
    {
     "name": "stdout",
     "output_type": "stream",
     "text": [
      "<bound method Series.reset_index of 864                         Hustler White\n",
      "1128           Kama Sutra: A Tale of Love\n",
      "1130                           Love Jones\n",
      "1140          Love and Other Catastrophes\n",
      "1151            Temptress Moon (Feng Yue)\n",
      "1182                                 Fall\n",
      "1745                       Meet Joe Black\n",
      "1879                  Message in a Bottle\n",
      "2033    Autumn Tale, An (Conte d'automne)\n",
      "Name: title, dtype: object>\n"
     ]
    }
   ],
   "source": [
    "recomend_movie(\"Grumpier Old Men\")"
   ]
  }
 ],
 "metadata": {
  "kaggle": {
   "accelerator": "none",
   "dataSources": [
    {
     "datasetId": 60876,
     "sourceId": 118283,
     "sourceType": "datasetVersion"
    }
   ],
   "dockerImageVersionId": 30396,
   "isGpuEnabled": false,
   "isInternetEnabled": false,
   "language": "python",
   "sourceType": "notebook"
  },
  "kernelspec": {
   "display_name": "Python 3 (ipykernel)",
   "language": "python",
   "name": "python3"
  },
  "language_info": {
   "codemirror_mode": {
    "name": "ipython",
    "version": 3
   },
   "file_extension": ".py",
   "mimetype": "text/x-python",
   "name": "python",
   "nbconvert_exporter": "python",
   "pygments_lexer": "ipython3",
   "version": "3.11.4"
  },
  "papermill": {
   "default_parameters": {},
   "duration": 17.942894,
   "end_time": "2024-05-22T17:43:26.582746",
   "environment_variables": {},
   "exception": null,
   "input_path": "__notebook__.ipynb",
   "output_path": "__notebook__.ipynb",
   "parameters": {},
   "start_time": "2024-05-22T17:43:08.639852",
   "version": "2.3.4"
  }
 },
 "nbformat": 4,
 "nbformat_minor": 5
}
